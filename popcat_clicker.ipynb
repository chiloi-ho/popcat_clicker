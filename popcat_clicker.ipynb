{
 "cells": [
  {
   "cell_type": "code",
   "execution_count": 1,
   "id": "51faa125",
   "metadata": {},
   "outputs": [],
   "source": [
    "import time\n",
    "from selenium import webdriver"
   ]
  },
  {
   "cell_type": "code",
   "execution_count": 3,
   "id": "343d5926",
   "metadata": {},
   "outputs": [],
   "source": [
    "DRIVER_PATH = 'your-chromedriver-path'\n",
    "driver = webdriver.Chrome(executable_path=DRIVER_PATH)\n",
    "url = \"https://popcat.click/\"\n",
    "driver.get(url)"
   ]
  },
  {
   "cell_type": "code",
   "execution_count": 6,
   "id": "74cfa4fc",
   "metadata": {},
   "outputs": [
    {
     "name": "stdout",
     "output_type": "stream",
     "text": [
      "<selenium.webdriver.remote.webelement.WebElement (session=\"cf2eec51031622ac5ff31a6ff6407c7f\", element=\"ff568133-d93b-4312-93b0-cd5c6f2aa712\")>\n"
     ]
    }
   ],
   "source": [
    "button = driver.find_element_by_xpath(\"//div[contains(@class, 'cat-img p')]\")\n",
    "print(button)\n",
    "\n",
    "count = 0\n",
    "while count < 1000:\n", 
    "    button.click()\n",
    "    count +=1 "
   ]
  },
  {
   "cell_type": "code",
   "execution_count": null,
   "id": "ead16efd",
   "metadata": {},
   "outputs": [],
   "source": []
  }
 ],
 "metadata": {
  "kernelspec": {
   "display_name": "Python 3 (ipykernel)",
   "language": "python",
   "name": "python3"
  },
  "language_info": {
   "codemirror_mode": {
    "name": "ipython",
    "version": 3
   },
   "file_extension": ".py",
   "mimetype": "text/x-python",
   "name": "python",
   "nbconvert_exporter": "python",
   "pygments_lexer": "ipython3",
   "version": "3.9.5"
  }
 },
 "nbformat": 4,
 "nbformat_minor": 5
}
